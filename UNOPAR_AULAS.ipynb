{
  "nbformat": 4,
  "nbformat_minor": 0,
  "metadata": {
    "colab": {
      "provenance": [],
      "toc_visible": true,
      "authorship_tag": "ABX9TyPQaGslttk/58Y+v8lgdBnl",
      "include_colab_link": true
    },
    "kernelspec": {
      "name": "python3",
      "display_name": "Python 3"
    },
    "language_info": {
      "name": "python"
    }
  },
  "cells": [
    {
      "cell_type": "markdown",
      "metadata": {
        "id": "view-in-github",
        "colab_type": "text"
      },
      "source": [
        "<a href=\"https://colab.research.google.com/github/Pedro-Ivo-Florentino/Exerc-cios-Gradua-o/blob/main/UNOPAR_AULAS.ipynb\" target=\"_parent\"><img src=\"https://colab.research.google.com/assets/colab-badge.svg\" alt=\"Open In Colab\"/></a>"
      ]
    },
    {
      "cell_type": "markdown",
      "source": [
        "Exercício 1:"
      ],
      "metadata": {
        "id": "q97rbRjJ9NNE"
      }
    },
    {
      "cell_type": "markdown",
      "source": [
        "# **Repositório** dos exercícios realizados na disciplina de Linguagem de Programção no Curso de Graduação em Arquitetura de Dados da Unopar."
      ],
      "metadata": {
        "id": "5kQLtda3oevC"
      }
    },
    {
      "cell_type": "markdown",
      "source": [
        "Exercício 1:"
      ],
      "metadata": {
        "id": "8DQefaDKpgzm"
      }
    },
    {
      "cell_type": "code",
      "execution_count": null,
      "metadata": {
        "colab": {
          "base_uri": "https://localhost:8080/"
        },
        "id": "4adxV4Ht01yZ",
        "outputId": "f4453167-56b8-43e8-bf0d-b173168bbed0"
      },
      "outputs": [
        {
          "output_type": "stream",
          "name": "stdout",
          "text": [
            "A palavra Python está inserida na variável texto? = True\n",
            "Quantas vezes aparece a letra y no texto? 1\n",
            "As cinco primeiras letras são: Apren.\n"
          ]
        }
      ],
      "source": [
        "texto = 'Aprendendo Python na disciplina Linguagem de Programação.'\n",
        "print(f'A palavra Python está inserida na variável texto? = {\"Python\" in texto}')\n",
        "print(f'Quantas vezes aparece a letra y no texto? {texto.count(\"y\")}')\n",
        "print(f'As cinco primeiras letras são: {texto[0:5]}.')\n"
      ]
    },
    {
      "cell_type": "markdown",
      "source": [
        "Exercício 2:"
      ],
      "metadata": {
        "id": "dLUDydQ39Sm_"
      }
    },
    {
      "cell_type": "code",
      "source": [
        "texto = 'Aprendendo Python na disciplina Linguagem de Programação.'\n",
        "print(f'O tamnho do texto, considerando os espaços em branco, é: {len(texto)}')\n",
        "print(f'O texto separado por palavras fica: {texto.split()}')\n",
        "palavras = texto.split()\n",
        "print(f'A quantidade de palvras no texto é de: {len(palavras)}')\n",
        "palavras[0:2] # mostra as palvras da posição 0 até a posição 2.\n",
        "texto_virgula = (\"Aprendendo, Python, na, disciplina, Linguagem, de, Programação.\")\n",
        "print(texto_virgula.split(\",\"))\n"
      ],
      "metadata": {
        "colab": {
          "base_uri": "https://localhost:8080/"
        },
        "id": "paKgw0Zz4nKt",
        "outputId": "d269108f-a05d-426e-9f3c-28d4dd1a8386"
      },
      "execution_count": null,
      "outputs": [
        {
          "output_type": "stream",
          "name": "stdout",
          "text": [
            "O tamnho do texto, considerando os espaços em branco, é: 57\n",
            "O texto separado por palavras fica: ['Aprendendo', 'Python', 'na', 'disciplina', 'Linguagem', 'de', 'Programação.']\n",
            "A quantidade de palvras no texto é de: 7\n",
            "['Aprendendo', ' Python', ' na', ' disciplina', ' Linguagem', ' de', ' Programação.']\n"
          ]
        }
      ]
    },
    {
      "cell_type": "markdown",
      "source": [
        "Exercício 3:"
      ],
      "metadata": {
        "id": "d9SnrOCiA0Xo"
      }
    },
    {
      "cell_type": "code",
      "source": [
        "vogais = ('a', 'e', 'i', 'o', 'u')\n",
        "for letra in vogais:\n",
        "    print(f'A posição da vogal {letra.upper()} é: {vogais.index(letra)+1}')\n",
        "    "
      ],
      "metadata": {
        "colab": {
          "base_uri": "https://localhost:8080/"
        },
        "id": "d-4cXcjO-5nu",
        "outputId": "5c2a3fc8-bf84-450e-f43e-77a5a8cf81d0"
      },
      "execution_count": null,
      "outputs": [
        {
          "output_type": "stream",
          "name": "stdout",
          "text": [
            "A posição da vogal A é: 1\n",
            "A posição da vogal E é: 2\n",
            "A posição da vogal I é: 3\n",
            "A posição da vogal O é: 4\n",
            "A posição da vogal U é: 5\n"
          ]
        }
      ]
    },
    {
      "cell_type": "markdown",
      "source": [
        "Exercício 4:\n"
      ],
      "metadata": {
        "id": "OGVz_Un7Q3mr"
      }
    },
    {
      "cell_type": "code",
      "source": [
        "linguagem = ('Python JavaScript C++ C# Java Go Cobol Swift c').split()\n",
        "print(f'Essa é a variável antes da listcomp: {linguagem}')\n",
        "linguagem = [item.lower() for item in linguagem]\n",
        "print('Depois da listcom: ', linguagem)\n"
      ],
      "metadata": {
        "colab": {
          "base_uri": "https://localhost:8080/"
        },
        "id": "Chv5oTgnBZtu",
        "outputId": "6480ab16-4cc5-49a5-f953-e576dc80070d"
      },
      "execution_count": null,
      "outputs": [
        {
          "output_type": "stream",
          "name": "stdout",
          "text": [
            "Essa é a variável antes da listcomp: ['Python', 'JavaScript', 'C++', 'C#', 'Java', 'Go', 'Cobol', 'Swift', 'c']\n",
            "Depois da listcom:  ['python', 'javascript', 'c++', 'c#', 'java', 'go', 'cobol', 'swift', 'c']\n"
          ]
        }
      ]
    },
    {
      "cell_type": "markdown",
      "source": [
        "Exercício 5:"
      ],
      "metadata": {
        "id": "tulQcy5TXG8h"
      }
    },
    {
      "cell_type": "code",
      "source": [
        "numeros = list(range(0,100))\n",
        "numeros_pares = list(filter(lambda x: x % 2 != 0, numeros))\n",
        "print(numeros_pares)\n"
      ],
      "metadata": {
        "colab": {
          "base_uri": "https://localhost:8080/"
        },
        "id": "tNFeaa_wR8db",
        "outputId": "ef566a23-d1a9-4efc-87bc-191d7bb6540b"
      },
      "execution_count": null,
      "outputs": [
        {
          "output_type": "stream",
          "name": "stdout",
          "text": [
            "[1, 3, 5, 7, 9, 11, 13, 15, 17, 19, 21, 23, 25, 27, 29, 31, 33, 35, 37, 39, 41, 43, 45, 47, 49, 51, 53, 55, 57, 59, 61, 63, 65, 67, 69, 71, 73, 75, 77, 79, 81, 83, 85, 87, 89, 91, 93, 95, 97, 99]\n"
          ]
        }
      ]
    },
    {
      "cell_type": "markdown",
      "source": [
        "Exercício 5:"
      ],
      "metadata": {
        "id": "qZZ9xLe_b4Sb"
      }
    },
    {
      "cell_type": "code",
      "source": [
        "vogais = ('a', 'e', 'i', 'o', 'u')\n",
        "for posicao, valor, in enumerate(vogais):# A função enumerate retorna uma tupla cujo o primeiro elemento\n",
        "# é a posição indice e o segundo elemento é o seu valor. \n",
        "    print(f'A posição da vogal é: {posicao} e o seu valor é: {valor.upper()}')\n",
        "print(f'O tipo dos objetos da variável vogais é: {type(vogais)}')\n"
      ],
      "metadata": {
        "colab": {
          "base_uri": "https://localhost:8080/"
        },
        "id": "l8cY4H7KXYLP",
        "outputId": "56a19df3-a9b6-4b8c-a4b3-6d71f13933bc"
      },
      "execution_count": null,
      "outputs": [
        {
          "output_type": "stream",
          "name": "stdout",
          "text": [
            "A posição da vogal é: 0 e o seu valor é: A\n",
            "A posição da vogal é: 1 e o seu valor é: E\n",
            "A posição da vogal é: 2 e o seu valor é: I\n",
            "A posição da vogal é: 3 e o seu valor é: O\n",
            "A posição da vogal é: 4 e o seu valor é: U\n",
            "O tipo dos objetos da variável vogais é: <class 'tuple'>\n"
          ]
        }
      ]
    },
    {
      "cell_type": "markdown",
      "source": [
        "Exercício **6**:"
      ],
      "metadata": {
        "id": "pwEkhL4Lc9Ix"
      }
    },
    {
      "cell_type": "code",
      "source": [
        "vogais_1 = {'aeiou'} # sem uso de construtor\n",
        "print(type(vogais_1))# construtor em string\n",
        "vogais_2 = set('aeiouaoueaeiouaeiou')\n",
        "print(vogais_2, type(vogais_2))\n",
        "vogais_3 = set(['a','e','i','o','u'])#construtor com lista\n",
        "print(vogais_3)\n",
        "print(type(vogais_3))\n",
        "vogais_4 = set(('a','e','i','o','u'))#construtor com tuplas\n",
        "print(vogais_4)\n",
        "print(type(vogais_4))\n",
        "print(set('Banana'))\n"
      ],
      "metadata": {
        "colab": {
          "base_uri": "https://localhost:8080/"
        },
        "id": "3AcCMm_-cVJl",
        "outputId": "63695da4-9708-468c-e930-ad5cbee875a3"
      },
      "execution_count": null,
      "outputs": [
        {
          "output_type": "stream",
          "name": "stdout",
          "text": [
            "<class 'set'>\n",
            "{'i', 'u', 'a', 'e', 'o'} <class 'set'>\n",
            "{'i', 'u', 'a', 'e', 'o'}\n",
            "<class 'set'>\n",
            "{'i', 'u', 'a', 'e', 'o'}\n",
            "<class 'set'>\n",
            "{'B', 'a', 'n'}\n"
          ]
        }
      ]
    },
    {
      "cell_type": "markdown",
      "source": [
        "Exercício 7:"
      ],
      "metadata": {
        "id": "29Dfmfvmryie"
      }
    },
    {
      "cell_type": "code",
      "source": [
        "# Exemplo 1 com criação de dicionário vazio com atribuição posterior de chave e valoo\n",
        "\n",
        "dicio_1 = {}\n",
        "dicio_1['Nome'] = 'João'\n",
        "dicio_1['Idade'] = 30\n",
        "\n",
        "# Exemplo 2 criação de dicionário usando um par elementos na forma, chave : valor\n",
        "\n",
        "dicio_2 = {'Nome': 'João', 'Idade': 30}\n",
        "\n",
        "# Exemplo 3 com criação de dicionário usando tuplas. Cada tupla represente um par chabe : valor.\n",
        "\n",
        "dicio_3 = dict([('Nome', 'João'), ('Idade', 30)])\n",
        "\n",
        "#Exemplo 4 com criação de dicionário com a função built-in zip() e duas listas, uma coa a chave, outra com valor.\n",
        "\n",
        "dicio_4 = dict(zip(['Nome', 'Idade'], ['João', 30]))\n",
        "\n",
        "print(dicio_1 == dicio_2 == dicio_3 == dicio_4)# testando se os valores são equivalentes \n"
      ],
      "metadata": {
        "colab": {
          "base_uri": "https://localhost:8080/"
        },
        "id": "3e9K4Tj3gOOq",
        "outputId": "592864d3-646b-400d-d56a-5cb5b1398032"
      },
      "execution_count": null,
      "outputs": [
        {
          "output_type": "stream",
          "name": "stdout",
          "text": [
            "True\n"
          ]
        }
      ]
    },
    {
      "cell_type": "markdown",
      "source": [
        "Exercício 8:"
      ],
      "metadata": {
        "id": "Sidqnf1MxVDl"
      }
    },
    {
      "cell_type": "code",
      "source": [
        "# Objetos do tipo array Nunpay\n",
        "\n",
        "import numpy as np\n",
        "matriz_1_1 = np.array([1,2,3])# Cria matriz 1 linha e uma coluna\n",
        "#matriz_2_2 = np.array([1,2],[3,4])# Cria matriz 2 linhas e 2 colunas\n",
        "matriz_3_2 = np.array([[1,2],[3,4],[5,6]])# Cria matriz 3 linhas e 2 colunas\n",
        "matriz_2_3 = np.array([[1,2,3],[4,5,6]])# Cria matriz 2 linhas e 3 colunas\n",
        "print('\\n',matriz_1_1)\n",
        "print('\\n',matriz_2_2)\n",
        "print('\\n',matriz_3_2)\n",
        "print('\\n',matriz_2_3)\n"
      ],
      "metadata": {
        "colab": {
          "base_uri": "https://localhost:8080/"
        },
        "id": "sYzfptL0xcGT",
        "outputId": "06616058-c167-4130-8e15-85be814e7043"
      },
      "execution_count": null,
      "outputs": [
        {
          "output_type": "stream",
          "name": "stdout",
          "text": [
            "\n",
            " [1 2 3]\n",
            "\n",
            " [[1 2]\n",
            " [3 4]]\n",
            "\n",
            " [[1 2]\n",
            " [3 4]\n",
            " [5 6]]\n",
            "\n",
            " [[1 2 3]\n",
            " [4 5 6]]\n"
          ]
        }
      ]
    },
    {
      "cell_type": "markdown",
      "source": [
        "Algoritmos de busca\n"
      ],
      "metadata": {
        "id": "YzyyiPNwCZN7"
      }
    },
    {
      "cell_type": "markdown",
      "source": [
        "Exercício 9:"
      ],
      "metadata": {
        "id": "bNA03qK751zU"
      }
    },
    {
      "cell_type": "code",
      "source": [
        "\n",
        "def executar_busca_linear(lista,valor): # Criamos a função com os parámetos desejados\n",
        "    for elemento in lista:\n",
        "        if valor == elemento:\n",
        "            return True\n",
        "    return False\n",
        "\n",
        "import random\n",
        "lista = random.sample(range(100),20)#Dentro do range de 0 a 100 serão buscados 20 valores de forma aleatória\n",
        "print(sorted(lista)) #Imprime a lista de forma ordenada\n",
        "executar_busca_linear(lista,10) #Trazemos a função que buscará o valor 10 dentro dela\n"
      ],
      "metadata": {
        "colab": {
          "base_uri": "https://localhost:8080/"
        },
        "id": "bhSP4r3r8hN-",
        "outputId": "ce2fb8b8-4bcf-42e9-e54c-edad7a3c1ee4"
      },
      "execution_count": null,
      "outputs": [
        {
          "output_type": "stream",
          "name": "stdout",
          "text": [
            "[6, 11, 15, 20, 28, 30, 33, 34, 37, 47, 49, 52, 70, 71, 73, 75, 76, 84, 86, 92]\n"
          ]
        },
        {
          "output_type": "execute_result",
          "data": {
            "text/plain": [
              "False"
            ]
          },
          "metadata": {},
          "execution_count": 78
        }
      ]
    },
    {
      "cell_type": "markdown",
      "source": [
        "Exercício 10:"
      ],
      "metadata": {
        "id": "pVhPDs8QCjr5"
      }
    },
    {
      "cell_type": "code",
      "source": [
        "# Buscando valores em uma string\n",
        "valores = 'abcdefghijklmnopqrstuvwxyz'\n",
        "resultado = valores.index('k')\n",
        "print(f'A posição do valor informado é a {resultado+1}ª posição.')#Acrescentei o +1, para compensar a leitura de índice realizada pelo python.\n"
      ],
      "metadata": {
        "colab": {
          "base_uri": "https://localhost:8080/"
        },
        "id": "wHjGZWZkCdYG",
        "outputId": "706f9e3c-0ad6-4d19-82a6-1351e7c3d241"
      },
      "execution_count": null,
      "outputs": [
        {
          "output_type": "stream",
          "name": "stdout",
          "text": [
            "A posição do valor informado é a 11ª posição.\n"
          ]
        }
      ]
    },
    {
      "cell_type": "markdown",
      "source": [
        "Exercício 11:"
      ],
      "metadata": {
        "id": "XL5eLSuhJP1u"
      }
    },
    {
      "cell_type": "code",
      "source": [
        "#Busca binária\n",
        "\n",
        "def executar_busca_binaria(lista, valor):\n",
        "    minimo = 0\n",
        "    maximo = len(lista) - 1\n",
        "    while minimo <= maximo:\n",
        "        meio = (minimo + maximo) // 2 # Encontra o elemento que divide a lista ao meio\n",
        "        if valor < lista[meio]:\n",
        "            maximo = meio - 1 # Verifica se o valor procurado está a esquerda ou direita do valor central\n",
        "        elif valor > lista[meio]:\n",
        "            minimo = meio + 1\n",
        "        else:\n",
        "            return True # Se o valor for encontrado para aqui\n",
        "    return False # Caso o valor não for encontrado\n",
        "lista = list(range(1,50))\n",
        "print(lista)\n",
        "print('\\n',executar_busca_binaria(lista = lista, valor = 10))\n",
        "print('\\n',executar_busca_binaria(lista = lista, valor = 20))\n"
      ],
      "metadata": {
        "colab": {
          "base_uri": "https://localhost:8080/"
        },
        "id": "YFNvpDsmDRZ4",
        "outputId": "44c18ea6-3585-427a-8ac2-36dd9e162b92"
      },
      "execution_count": null,
      "outputs": [
        {
          "output_type": "stream",
          "name": "stdout",
          "text": [
            "[1, 2, 3, 4, 5, 6, 7, 8, 9, 10, 11, 12, 13, 14, 15, 16, 17, 18, 19, 20, 21, 22, 23, 24, 25, 26, 27, 28, 29, 30, 31, 32, 33, 34, 35, 36, 37, 38, 39, 40, 41, 42, 43, 44, 45, 46, 47, 48, 49]\n",
            "\n",
            " True\n",
            "\n",
            " True\n"
          ]
        }
      ]
    },
    {
      "cell_type": "markdown",
      "source": [
        "Exercício 12:"
      ],
      "metadata": {
        "id": "kXVvS3MGPy6U"
      }
    },
    {
      "cell_type": "code",
      "source": [
        "#As listas em Python possuem um método embutido sort() que modifica a lista em si. \n",
        "#Há também a função embutida sorted() que constrói uma nova lista ordenada à partir de um iterável.\n",
        "lista = [10, 4, 1, 15, -3]\n",
        "lista_ordenada1 = sorted(lista)\n",
        "lista_ordenada2 = lista.sort()\n",
        "print('lista = ', lista, '\\n')\n",
        "print('lista_ordenada1 = ', lista_ordenada1)\n",
        "print('lista_ordenada2 = ', lista_ordenada2)\n",
        "print('lista = ', lista)"
      ],
      "metadata": {
        "colab": {
          "base_uri": "https://localhost:8080/"
        },
        "id": "ci6QSRiZMwuB",
        "outputId": "c2ee6585-57d0-420b-c8ed-f8cdd5f3e9bc"
      },
      "execution_count": null,
      "outputs": [
        {
          "output_type": "stream",
          "name": "stdout",
          "text": [
            "lista =  [-3, 1, 4, 10, 15] \n",
            "\n",
            "lista_ordenada1 =  [-3, 1, 4, 10, 15]\n",
            "lista_ordenada2 =  None\n",
            "lista =  [-3, 1, 4, 10, 15]\n"
          ]
        }
      ]
    },
    {
      "cell_type": "markdown",
      "source": [
        "Exercício 13"
      ],
      "metadata": {
        "id": "7dukJVtPQjMX"
      }
    },
    {
      "cell_type": "code",
      "source": [
        "#Ordenando valores a partir da lógica\n",
        "\n",
        "lista = [7, 4]\n",
        "if lista[0] > lista[1]: #Se o índice zero da lista for maior que o índice um ele fará a alteração da ordem dos valores\n",
        "    aux = lista[1]\n",
        "    lista[1] = lista[0]\n",
        "    lista[0] = aux\n",
        "print(lista)\n"
      ],
      "metadata": {
        "colab": {
          "base_uri": "https://localhost:8080/"
        },
        "id": "DvcWft-KQinf",
        "outputId": "b9223cd8-0c81-48c6-9ceb-842a4fd4b776"
      },
      "execution_count": null,
      "outputs": [
        {
          "output_type": "stream",
          "name": "stdout",
          "text": [
            "[4, 7]\n"
          ]
        }
      ]
    },
    {
      "cell_type": "markdown",
      "source": [
        "Exercício 14"
      ],
      "metadata": {
        "id": "53rftb3dREXm"
      }
    },
    {
      "cell_type": "code",
      "source": [
        "def executar_selection_sort(lista):\n",
        "    n = len(lista)#Variável que guarda o tamanho da lista\n",
        "    #Precisamos de duas estruturas de controle para iterar, tanto para ir atualizando a posição de inserção \n",
        "    #quanto para achar o menor valor da lista.\n",
        "    #Usamos a variável i para controlar a posição de inserção e a variável j para iterar sobre\n",
        "    #os valores da lista, procurando o menor valor. A busca pelo menor valor é feita com o auxílio de\n",
        "    #uma variável com a qual, quando o menor valor for encontrado, a variável index_menor guardará a\n",
        "    #posição para a troca dos valores\n",
        "    for i in range(0, n):\n",
        "        index_menor = i\n",
        "        for j in range(i+1, n):\n",
        "            if lista[j] < lista[index_menor]:\n",
        "                index_menor = j\n",
        "        lista[i], lista[index_menor] = lista[index_menor], lista[i]#Usamos a atribuição múltipla para fazer a troca dos valores, quando necessário.\n",
        "        return lista\n",
        "lista = [10, 9, 5, 8, 11, -1, 3]\n",
        "executar_selection_sort(lista)\n"
      ],
      "metadata": {
        "colab": {
          "base_uri": "https://localhost:8080/"
        },
        "id": "g6BAzKC6Q2Bl",
        "outputId": "c4d43953-e973-4eea-ade0-cabe9d377bf9"
      },
      "execution_count": null,
      "outputs": [
        {
          "output_type": "execute_result",
          "data": {
            "text/plain": [
              "[-1, 9, 5, 8, 11, 10, 3]"
            ]
          },
          "metadata": {},
          "execution_count": 107
        }
      ]
    },
    {
      "cell_type": "markdown",
      "source": [
        "Exercício 14:"
      ],
      "metadata": {
        "id": "2KALtY4BWX6f"
      }
    },
    {
      "cell_type": "code",
      "source": [
        "#Bubble sort (Ordenação por \"bolha\")\n",
        "\n",
        "def executar_bubble_sort(lista):\n",
        "    n = len(lista)\n",
        "    for i in range(n-1):\n",
        "        for j in range(n-1):\n",
        "            if lista[j] > lista[j + 1]:\n",
        "                lista[j], lista[j + 1] = lista[j + 1], lista[j]\n",
        "    return lista\n",
        "lista = [10, 9, 5, 8, 11, -1, 3]\n",
        "executar_bubble_sort(lista)\n"
      ],
      "metadata": {
        "colab": {
          "base_uri": "https://localhost:8080/"
        },
        "id": "h1HoyaYSSfRK",
        "outputId": "e298fcfb-9f55-412e-95be-dce3fcbd84ad"
      },
      "execution_count": null,
      "outputs": [
        {
          "output_type": "execute_result",
          "data": {
            "text/plain": [
              "[-1, 3, 5, 8, 9, 10, 11]"
            ]
          },
          "metadata": {},
          "execution_count": 108
        }
      ]
    },
    {
      "cell_type": "markdown",
      "source": [
        "Exercício 15:"
      ],
      "metadata": {
        "id": "UDfVM_FQdInw"
      }
    },
    {
      "cell_type": "code",
      "source": [
        "# Ordenação por inserção (insertion sort)\n",
        "\n",
        "def executar_insertion_sort(lista):\n",
        "    n = len(lista)\n",
        "    for i in range(1, n):\n",
        "        valor_inserir = lista[i]\n",
        "        j = i - 1\n",
        "        while j >= 0 and lista[j] > valor_inserir:\n",
        "            lista[j + 1] = lista[j]\n",
        "            j = j - 1\n",
        "            lista[j + 1] = valor_inserir\n",
        "\n",
        "    return lista\n",
        "lista = [10,9,5,8,11,-1,3]\n",
        "executar_insertion_sort(lista)\n"
      ],
      "metadata": {
        "colab": {
          "base_uri": "https://localhost:8080/"
        },
        "id": "W3xtYNAMb66L",
        "outputId": "344cbb42-cb2d-42f4-9b1f-8591cf2dcb10"
      },
      "execution_count": null,
      "outputs": [
        {
          "output_type": "execute_result",
          "data": {
            "text/plain": [
              "[-1, 3, 5, 8, 9, 10, 11]"
            ]
          },
          "metadata": {},
          "execution_count": 110
        }
      ]
    },
    {
      "cell_type": "markdown",
      "source": [
        "Exercício 16"
      ],
      "metadata": {
        "id": "KwcwkXcIgrSc"
      }
    },
    {
      "cell_type": "code",
      "source": [
        "# Ordenação por junção\n",
        "\n",
        "def executar_merge_sort(lista):\n",
        "    if len(lista) <= 1: return lista\n",
        "    else:\n",
        "        meio = len(lista) // 2\n",
        "        esquerda = executar_merge_sort(lista[:meio])\n",
        "        direita = executar_merge_sort(lista[meio:])\n",
        "        return executar_merge(esquerda, direita)\n",
        "def executar_merge(esquerda, direita):\n",
        "    sub_lista_ordenada = []\n",
        "    topo_esquerda, topo_direita = 0, 0\n",
        "    while topo_esquerda < len(esquerda) and topo_direita < len(direita):\n",
        "        if esquerda[topo_esquerda] <= direita[topo_direita]:\n",
        "            sub_lista_ordenada.append(esquerda[topo_esquerda])\n",
        "            topo_esquerda += 1\n",
        "        else:\n",
        "            sub_lista_ordenada.append(direita[topo_direita])\n",
        "            topo_direita += 1\n",
        "    sub_lista_ordenada += esquerda[topo_esquerda:]\n",
        "    sub_lista_ordenada += direita[topo_direita:]\n",
        "    return sub_lista_ordenada\n",
        "lista = [10, 9, 5, 8, 11, -1, 3]\n",
        "executar_merge_sort(lista)\n"
      ],
      "metadata": {
        "colab": {
          "base_uri": "https://localhost:8080/"
        },
        "id": "Es2j5CXNd60s",
        "outputId": "c10157b0-9108-4ee3-a843-a971796edb8a"
      },
      "execution_count": null,
      "outputs": [
        {
          "output_type": "execute_result",
          "data": {
            "text/plain": [
              "[-1, 3, 5, 8, 9, 10, 11]"
            ]
          },
          "metadata": {},
          "execution_count": 111
        }
      ]
    },
    {
      "cell_type": "markdown",
      "source": [
        "Exercício 17"
      ],
      "metadata": {
        "id": "UQy7VEzplVrp"
      }
    },
    {
      "cell_type": "code",
      "source": [
        "#Quicksort (Ordenação rápida)\n",
        "\n",
        "def executar_quicksort(lista, inicio, fim):\n",
        "    if inicio < fim:\n",
        "        pivo = executar_particao(lista, inicio, fim)\n",
        "        executar_quicksort(lista, inicio, pivo-1)\n",
        "        executar_quicksort(lista, pivo+1, fim)\n",
        "    return lista\n",
        "def executar_particao(lista, inicio, fim):\n",
        "    pivo = lista[fim]\n",
        "    esquerda = inicio\n",
        "    for direita in range(inicio, fim):\n",
        "        if lista[direita] <= pivo:\n",
        "            lista[direita], lista[esquerda] = lista[esquerda], lista[direita]\n",
        "            esquerda += 1\n",
        "    lista[esquerda], lista[fim] = lista[fim],lista[esquerda]\n",
        "    return esquerda\n",
        "lista = [10, 9, 5, 8, 11, -1, 3]\n",
        "executar_quicksort(lista, inicio=0, fim=len(lista)-1)\n"
      ],
      "metadata": {
        "colab": {
          "base_uri": "https://localhost:8080/"
        },
        "id": "IjTFt_dNlWSF",
        "outputId": "c35b2c4d-7fc1-498f-a766-982eaf166ca8"
      },
      "execution_count": null,
      "outputs": [
        {
          "output_type": "execute_result",
          "data": {
            "text/plain": [
              "[-1, 3, 5, 8, 9, 10, 11]"
            ]
          },
          "metadata": {},
          "execution_count": 113
        }
      ]
    }
  ]
}